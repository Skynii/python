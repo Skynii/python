{
  "nbformat": 4,
  "nbformat_minor": 0,
  "metadata": {
    "colab": {
      "name": "Estrutura de Dados.ipynb",
      "provenance": [],
      "toc_visible": true,
      "authorship_tag": "ABX9TyO2hGQI4w52hnLvOMSm/Upz",
      "include_colab_link": true
    },
    "kernelspec": {
      "name": "python3",
      "display_name": "Python 3"
    },
    "language_info": {
      "name": "python"
    }
  },
  "cells": [
    {
      "cell_type": "markdown",
      "metadata": {
        "id": "view-in-github",
        "colab_type": "text"
      },
      "source": [
        "<a href=\"https://colab.research.google.com/github/Skynii/python/blob/main/Estrutura_de_Dados.ipynb\" target=\"_parent\"><img src=\"https://colab.research.google.com/assets/colab-badge.svg\" alt=\"Open In Colab\"/></a>"
      ]
    },
    {
      "cell_type": "markdown",
      "source": [
        "# Estrutura de Dados Sequencias\n",
        "# Tipos de Sequencias\n"
      ],
      "metadata": {
        "id": "_9z8zfQi4Op3"
      }
    },
    {
      "cell_type": "code",
      "source": [
        "texto = \"Aprendendo, Python, na disciplina de Linguagem de programação.\"\n",
        "\n",
        "print(f\"Tamanho do texto= {len(texto)} espaços\")\n",
        "print(f\"Python in texto {'Python' in texto}\") #Verificar se existe essa palavra\n",
        "print(f\"Quantidade de Y no texto = {texto.count('y')}\")\n",
        "print(f\"As 5 primeiras letras são: {texto[0:6]}\\n\")\n",
        "\n",
        "palavras = texto.split()\n",
        "print(f\"palavras = {palavras}\")\n",
        "print(f\"Tamanho de palavras = {len(palavras)}\")\n",
        "print(texto.split(','))"
      ],
      "metadata": {
        "colab": {
          "base_uri": "https://localhost:8080/"
        },
        "id": "VTv1lrGw4cdQ",
        "outputId": "57b2ff37-41ab-4eca-f658-e9f15f6e9e74"
      },
      "execution_count": null,
      "outputs": [
        {
          "output_type": "stream",
          "name": "stdout",
          "text": [
            "Tamanho do texto= 62 espaços\n",
            "Python in texto True\n",
            "Quantidade de Y no texto = 1\n",
            "As 5 primeiras letras são: Aprend\n",
            "\n",
            "palavras = ['Aprendendo,', 'Python,', 'na', 'disciplina', 'de', 'Linguagem', 'de', 'programação.']\n",
            "Tamanho de palavras = 8\n",
            "['Aprendendo', ' Python', ' na disciplina de Linguagem de programação.']\n"
          ]
        }
      ]
    },
    {
      "cell_type": "markdown",
      "source": [
        "# Listas"
      ],
      "metadata": {
        "id": "hADWb7YiGqtL"
      }
    },
    {
      "cell_type": "code",
      "execution_count": null,
      "metadata": {
        "colab": {
          "base_uri": "https://localhost:8080/"
        },
        "id": "nGuds-lo4KRK",
        "outputId": "deff35dd-52fa-44ab-cac5-233fde3d0d84"
      },
      "outputs": [
        {
          "output_type": "stream",
          "name": "stdout",
          "text": [
            "POsicao = 0, valor=a\n",
            "POsicao = 1, valor=e\n",
            "POsicao = 2, valor=i\n",
            "POsicao = 3, valor=o\n",
            "POsicao = 4, valor=u\n"
          ]
        }
      ],
      "source": [
        "vogais = [ 'a', 'e', 'i', 'o', 'u']\n",
        "\n",
        "for vogal in vogais:\n",
        "  print (f'Posicao = {vogais.index(vogal)}, valor={vogal}')"
      ]
    },
    {
      "cell_type": "markdown",
      "source": [
        "# List Comprehension"
      ],
      "metadata": {
        "id": "gAfEnvvmbLt1"
      }
    },
    {
      "cell_type": "code",
      "source": [
        "linguagens = [ \"python\", \"java\", \"Javascript\", \"C\", \"#C\", \"C++\", \"Swift\", \"Go\", \"kotlin\"]\n",
        "\n",
        "print(f\"Antes da listComp= {linguagens}\" )\n",
        "linguagens = [item.lower() for item in linguagens]\n",
        "print(\"\\n Depois da ListComp= \", linguagens)"
      ],
      "metadata": {
        "colab": {
          "base_uri": "https://localhost:8080/"
        },
        "id": "war_YsOBbR25",
        "outputId": "d84431c9-f5c6-4305-f169-2ef1399c147c"
      },
      "execution_count": null,
      "outputs": [
        {
          "output_type": "stream",
          "name": "stdout",
          "text": [
            "Antes da listComp= ['python', 'java', 'Javascript', 'C', '#C', 'C++', 'Swift', 'Go', 'kotlin']\n",
            "\n",
            " Depois da ListComp=  ['python', 'java', 'javascript', 'c', '#c', 'c++', 'swift', 'go', 'kotlin']\n"
          ]
        }
      ]
    },
    {
      "cell_type": "markdown",
      "source": [
        "# Map() e Filter()"
      ],
      "metadata": {
        "id": "Bc4ntv2ceoHA"
      }
    },
    {
      "cell_type": "code",
      "source": [
        "linguagens = [ \"python\", \"java\", \"Javascript\", \"C\", \"#C\", \"C++\", \"Swift\", \"Go\", \"kotlin\"]\n",
        "\n",
        "nova_lista = map(lambda x: x.upper(), linguagens)\n",
        "print(f\"A nova lista é = { nova_lista}\\n\")\n",
        "\n",
        "nova_lista = list(nova_lista)\n",
        "print(f\"Agora sim, a nova lista é = {nova_lista}\")"
      ],
      "metadata": {
        "colab": {
          "base_uri": "https://localhost:8080/"
        },
        "id": "kywqbnocerrj",
        "outputId": "077c257e-be25-447e-f9b3-4152597acc40"
      },
      "execution_count": null,
      "outputs": [
        {
          "output_type": "stream",
          "name": "stdout",
          "text": [
            "A nova lista é = <map object at 0x7fe71f6cf290>\n",
            "\n",
            "Agora sim, a nova lista é = ['PYTHON', 'JAVA', 'JAVASCRIPT', 'C', '#C', 'C++', 'SWIFT', 'GO', 'KOTLIN']\n"
          ]
        }
      ]
    },
    {
      "cell_type": "markdown",
      "source": [
        "# Range()"
      ],
      "metadata": {
        "id": "Vu-Fs0affWwq"
      }
    },
    {
      "cell_type": "code",
      "source": [
        "numeros= list(range(0,21))\n",
        "\n",
        "numeros_pares= list(filter(lambda x : x % 2 == 0, numeros))\n",
        "print(numeros_pares)\n",
        "numeros_impares = list(filter(lambda x : x % 2 != 0, numeros))\n",
        "print(numeros_impares)"
      ],
      "metadata": {
        "colab": {
          "base_uri": "https://localhost:8080/"
        },
        "id": "KGUMreUmfaM7",
        "outputId": "17a1fdfb-dc3b-47cb-dad6-97a61cb2fa4a"
      },
      "execution_count": null,
      "outputs": [
        {
          "output_type": "stream",
          "name": "stdout",
          "text": [
            "[0, 2, 4, 6, 8, 10, 12, 14, 16, 18, 20]\n",
            "[1, 3, 5, 7, 9, 11, 13, 15, 17, 19]\n"
          ]
        }
      ]
    },
    {
      "cell_type": "code",
      "source": [
        ""
      ],
      "metadata": {
        "id": "HQ_M1Xzggnbr"
      },
      "execution_count": null,
      "outputs": []
    },
    {
      "cell_type": "markdown",
      "source": [
        "# Tupla\n",
        "\n",
        "\n"
      ],
      "metadata": {
        "id": "nedXQVg5gm3z"
      }
    },
    {
      "cell_type": "code",
      "source": [
        "vogais = ('a', 'e', 'i', 'o', 'u')\n",
        "print(f\"Tipo de objeto vogais = {type(vogais)}\")\n",
        "\n",
        "for p, x in enumerate(vogais):\n",
        "  print(f\"Posição ={p}, valor {x}\")"
      ],
      "metadata": {
        "colab": {
          "base_uri": "https://localhost:8080/"
        },
        "id": "867Xmyp9gzt6",
        "outputId": "1b67201d-af88-4be5-b288-11828c77b7d2"
      },
      "execution_count": null,
      "outputs": [
        {
          "output_type": "stream",
          "name": "stdout",
          "text": [
            "Tipo de objeto vogais = <class 'tuple'>\n",
            "Posição =0, valor a\n",
            "Posição =1, valor e\n",
            "Posição =2, valor i\n",
            "Posição =3, valor o\n",
            "Posição =4, valor u\n"
          ]
        }
      ]
    },
    {
      "cell_type": "markdown",
      "source": [
        "# Set()"
      ],
      "metadata": {
        "id": "2KgzywKYprSt"
      }
    },
    {
      "cell_type": "code",
      "source": [
        "vogais_1 ={\"aeiou\"} #sem construtor\n",
        "print(type(vogais_1), vogais_1)\n",
        "vogais_2 = set(\"aieiouaaaaa\") #construtor com string\n",
        "print(type(vogais_2), vogais_2)\n",
        "vogais_3 = set(['a', 'e', 'i', 'o', 'u']) #Contrutor com lista\n",
        "print(type(vogais_3), vogais_3)\n",
        "vogais_4 = set(('a', 'e', 'i', 'o', 'u')) #construtor com tupla\n",
        "print(type(vogais_4), vogais_4)\n",
        "\n",
        "print(set('banana'))\n"
      ],
      "metadata": {
        "colab": {
          "base_uri": "https://localhost:8080/"
        },
        "id": "KVURfK4opwrw",
        "outputId": "114b95af-8a27-48f6-848d-bd3bb6b5cbdb"
      },
      "execution_count": null,
      "outputs": [
        {
          "output_type": "stream",
          "name": "stdout",
          "text": [
            "<class 'set'> {'aeiou'}\n",
            "<class 'set'> {'o', 'a', 'u', 'i', 'e'}\n",
            "<class 'set'> {'o', 'a', 'u', 'i', 'e'}\n",
            "<class 'set'> {'o', 'a', 'u', 'i', 'e'}\n",
            "{'n', 'b', 'a'}\n"
          ]
        }
      ]
    },
    {
      "cell_type": "markdown",
      "source": [
        "# Dicionario"
      ],
      "metadata": {
        "id": "GPaH7v_NuJ-I"
      }
    },
    {
      "cell_type": "code",
      "source": [
        "dici_1 ={}\n",
        "dici_1['nome'] = \"João\"\n",
        "dici_1['idade']= 30\n",
        "\n",
        "dici_2= {'nome': 'João', 'idade': 30}\n",
        "\n",
        "dici_3 = dict([('nome', 'João'), ('idade',30)])\n",
        "dici_4 = dict(zip(['nome','idade'],['João', 30]))\n",
        "\n",
        "print(dici_1 == dici_2 == dici_3 == dici_4)"
      ],
      "metadata": {
        "colab": {
          "base_uri": "https://localhost:8080/"
        },
        "id": "KFsBueS1ut3B",
        "outputId": "c99eae7f-2e3f-4eb8-dff7-8eafe11f7f77"
      },
      "execution_count": null,
      "outputs": [
        {
          "output_type": "stream",
          "name": "stdout",
          "text": [
            "True\n"
          ]
        }
      ]
    },
    {
      "cell_type": "markdown",
      "source": [
        "# Busca de algoritimos"
      ],
      "metadata": {
        "id": "ng0CdfjouKEk"
      }
    },
    {
      "cell_type": "markdown",
      "source": [
        "# Busca Binária"
      ],
      "metadata": {
        "id": "sxroUadH1Q4-"
      }
    },
    {
      "cell_type": "code",
      "source": [
        "def executar_busca_binaria(lista, valor):\n",
        "  minimo = 0\n",
        "  maximo = len(lista) -1\n",
        "  while minimo <= maximo:\n",
        "    #Encontrar o elemento que divide a lista ao meio\n",
        "    meio= (minimo + maximo)//2\n",
        "    #Verifica se o valor procurado esá a esquerda ou a direita do valor central\n",
        "    if valor < lista[meio]:\n",
        "      maximo = meio - 1\n",
        "    elif valor > lista[meio]:\n",
        "      minimo  =  meio + 1\n",
        "    else:\n",
        "      return True # se o vlor for encontrado para aqui\n",
        "  return False #Se chegar aé aqui, signidica que o valor nao foi encontrado\n",
        "\n",
        "lista = list(range(1,50))\n",
        "\n",
        "print(lista)\n",
        "\n",
        "print('\\n', executar_busca_binaria(lista= lista, valor = 10))\n",
        "print('\\n', executar_busca_binaria(lista=lista, valor=20))\n",
        "print('\\n', executar_busca_binaria(lista=lista, valor=60))\n"
      ],
      "metadata": {
        "colab": {
          "base_uri": "https://localhost:8080/"
        },
        "id": "ouB3Tz8e1Tts",
        "outputId": "2ff4d672-0b08-4cac-92c7-e481ecfa9ef1"
      },
      "execution_count": null,
      "outputs": [
        {
          "output_type": "stream",
          "name": "stdout",
          "text": [
            "[1, 2, 3, 4, 5, 6, 7, 8, 9, 10, 11, 12, 13, 14, 15, 16, 17, 18, 19, 20, 21, 22, 23, 24, 25, 26, 27, 28, 29, 30, 31, 32, 33, 34, 35, 36, 37, 38, 39, 40, 41, 42, 43, 44, 45, 46, 47, 48, 49]\n",
            "\n",
            " True\n",
            "\n",
            " True\n",
            "\n",
            " False\n"
          ]
        }
      ]
    },
    {
      "cell_type": "markdown",
      "source": [
        "# Algoritimos de ordenação"
      ],
      "metadata": {
        "id": "5bROFoeBA0Sy"
      }
    },
    {
      "cell_type": "code",
      "source": [
        "lista = [ -9,10, 4, 1, 15, -3]\n",
        "\n",
        "lista_ordenada1= sorted(lista)\n",
        "lista_ordenada2= lista.sort()\n",
        "\n",
        "print('lista = ', lista, '\\n')\n",
        "print('lista_ordenada1 = ', lista_ordenada1)\n",
        "print('lista_ordenada2 = ', lista_ordenada2)\n",
        "print('lista = ', lista)\n"
      ],
      "metadata": {
        "colab": {
          "base_uri": "https://localhost:8080/"
        },
        "id": "LFh7cshgBHN5",
        "outputId": "5ea0a3be-4169-4168-8348-01bbbca7528e"
      },
      "execution_count": null,
      "outputs": [
        {
          "output_type": "stream",
          "name": "stdout",
          "text": [
            "lista =  [-9, -3, 1, 4, 10, 15] \n",
            "\n",
            "lista_ordenada1 =  [-9, -3, 1, 4, 10, 15]\n",
            "lista =  [-9, -3, 1, 4, 10, 15]\n"
          ]
        }
      ]
    },
    {
      "cell_type": "markdown",
      "source": [
        "COmparação de lista"
      ],
      "metadata": {
        "id": "0LTjzcHi_I84"
      }
    },
    {
      "cell_type": "code",
      "source": [
        "lista = [7,4]\n",
        "\n",
        "if lista[0] > lista[1]:\n",
        "  aux = lista[1]\n",
        "  lista[1] = lista[0]\n",
        "  lista[0] = aux\n",
        "\n",
        "print(lista)"
      ],
      "metadata": {
        "colab": {
          "base_uri": "https://localhost:8080/"
        },
        "id": "jdt5nlHb-yf2",
        "outputId": "0c4f5b9a-cb5f-4f22-8226-6b608a8e1e93"
      },
      "execution_count": null,
      "outputs": [
        {
          "output_type": "stream",
          "name": "stdout",
          "text": [
            "[4, 7]\n"
          ]
        }
      ]
    },
    {
      "cell_type": "markdown",
      "source": [
        ""
      ],
      "metadata": {
        "id": "pCTAmhK1BIFi"
      }
    },
    {
      "cell_type": "markdown",
      "source": [
        "# Sort()"
      ],
      "metadata": {
        "id": "Ed570RgI__Za"
      }
    },
    {
      "cell_type": "code",
      "source": [
        "def  executar_selection_sort(lista):\n",
        "  n = len(lista)\n",
        "  for i in range(0, n):\n",
        "    index_menor = i\n",
        "    for j in range(i +1, n):\n",
        "      if lista[j] < lista[index_menor]:\n",
        "        index_menor = j\n",
        "    lista[i], lista[index_menor] = lista[index_menor], lista[i]\n",
        "  return lista\n",
        "lista= [10, 9, 5, 8, 11, -1, -5]\n",
        "\n",
        "executar_selection_sort(lista)\n",
        "\n"
      ],
      "metadata": {
        "colab": {
          "base_uri": "https://localhost:8080/"
        },
        "id": "YHUSAyB2AId5",
        "outputId": "7ab4477b-a5b2-4f9b-f8a3-5db855daca25"
      },
      "execution_count": null,
      "outputs": [
        {
          "output_type": "execute_result",
          "data": {
            "text/plain": [
              "[-5, -1, 5, 8, 9, 10, 11]"
            ]
          },
          "metadata": {},
          "execution_count": 9
        }
      ]
    },
    {
      "cell_type": "markdown",
      "source": [
        "# bubble_sort()"
      ],
      "metadata": {
        "id": "DzxhLVe8B2or"
      }
    },
    {
      "cell_type": "code",
      "source": [
        ""
      ],
      "metadata": {
        "id": "n05IUIT3IVr6"
      },
      "execution_count": null,
      "outputs": []
    },
    {
      "cell_type": "code",
      "source": [
        "def executar_bubble_sort(lista):\n",
        "  n = len(lista)\n",
        "  for i in range(n-1):\n",
        "    for j in range(n-1):\n",
        "      if lista[j] > lista [j+1]:\n",
        "        lista[j], lista[j + 1] = lista[j + 1], lista[j]\n",
        "  return lista\n",
        "\n",
        "lista =[10, 9, 5, 8, 11, -1, 3]\n",
        "executar_bubble_sort(lista)\n"
      ],
      "metadata": {
        "colab": {
          "base_uri": "https://localhost:8080/"
        },
        "id": "seLnxX-NBzWf",
        "outputId": "0295f432-abca-4196-f517-0999580a7608"
      },
      "execution_count": null,
      "outputs": [
        {
          "output_type": "execute_result",
          "data": {
            "text/plain": [
              "[-1, 3, 5, 8, 9, 10, 11]"
            ]
          },
          "metadata": {},
          "execution_count": 13
        }
      ]
    },
    {
      "cell_type": "markdown",
      "source": [
        "# Odernação por inserção Insert()\n"
      ],
      "metadata": {
        "id": "Z7M_XtStIf5H"
      }
    },
    {
      "cell_type": "code",
      "source": [
        "def executar_insertion_sort(lista):\n",
        "  n = len(lista)\n",
        "  for i in range(1, n):\n",
        "    valor_inserir = lista[i]\n",
        "    j = i -1\n",
        "\n",
        "    while j >= 0 and lista[j] > valor_inserir:\n",
        "      lista[j + 1] = lista[j]\n",
        "      j -= 1\n",
        "    lista[j +1] = valor_inserir\n",
        "\n",
        "  return lista\n",
        "\n",
        "lista =[10, 9, 5, 8, 11, -1, 3]\n",
        "executar_insertion_sort(lista)\n"
      ],
      "metadata": {
        "colab": {
          "base_uri": "https://localhost:8080/"
        },
        "id": "u20jSlhLJQk2",
        "outputId": "612d05b1-6f17-469e-ada5-4da2f479b0e1"
      },
      "execution_count": null,
      "outputs": [
        {
          "output_type": "execute_result",
          "data": {
            "text/plain": [
              "[-1, 3, 5, 8, 9, 10, 11]"
            ]
          },
          "metadata": {},
          "execution_count": 20
        }
      ]
    },
    {
      "cell_type": "markdown",
      "source": [
        "# Merge_sort()"
      ],
      "metadata": {
        "id": "VQb8rICjXdcw"
      }
    },
    {
      "cell_type": "code",
      "source": [
        "def executar_merge_sort(lista):\n",
        "  if len(lista) <= 1: return lista\n",
        "  else:\n",
        "    meio= len(lista)//2\n",
        "    esquerda = executar_merge_sort(lista[:meio])\n",
        "    direita = executar_merge_sort(lista[meio:])\n",
        "    return executar_merge(esquerda, direita )\n",
        "\n",
        "def executar_merge(esquerda, direita):\n",
        "  sub_lista_ordenada = []\n",
        "  topo_esquerda, topo_direita = 0, 0\n",
        "  while topo_esquerda < len(esquerda) and topo_direita < len(direita):\n",
        "    if esquerda[topo_esquerda] <= direita[topo_direita]:\n",
        "      sub_lista_ordenada.append(esquerda[topo_esquerda])\n",
        "      topo_esquerda += 1\n",
        "    else:\n",
        "      sub_lista_ordenada.append(direita[topo_direita])\n",
        "      topo_direita += 1\n",
        "  sub_lista_ordenada += esquerda[topo_esquerda:]\n",
        "  sub_lista_ordenada += [topo_direita]\n",
        "  return sub_lista_ordenada\n",
        "\n"
      ],
      "metadata": {
        "colab": {
          "base_uri": "https://localhost:8080/",
          "height": 130
        },
        "id": "mxP3TSq5Xi6N",
        "outputId": "9d57119c-904a-4380-b78e-ecdfbc33020d"
      },
      "execution_count": null,
      "outputs": [
        {
          "output_type": "error",
          "ename": "SyntaxError",
          "evalue": "ignored",
          "traceback": [
            "\u001b[0;36m  File \u001b[0;32m\"<ipython-input-21-44e4ca10b957>\"\u001b[0;36m, line \u001b[0;32m21\u001b[0m\n\u001b[0;31m    sub_lista_ordenada += [topo_direita:]\u001b[0m\n\u001b[0m                                       ^\u001b[0m\n\u001b[0;31mSyntaxError\u001b[0m\u001b[0;31m:\u001b[0m invalid syntax\n"
          ]
        }
      ]
    }
  ]
}