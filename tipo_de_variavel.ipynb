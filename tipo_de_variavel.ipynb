{
  "nbformat": 4,
  "nbformat_minor": 0,
  "metadata": {
    "colab": {
      "name": "tipo_de_variavel.ipynb",
      "provenance": [],
      "collapsed_sections": [],
      "authorship_tag": "ABX9TyP8/BUWfiXd2/4M0YjjdvxI",
      "include_colab_link": true
    },
    "kernelspec": {
      "name": "python3",
      "display_name": "Python 3"
    },
    "language_info": {
      "name": "python"
    }
  },
  "cells": [
    {
      "cell_type": "markdown",
      "metadata": {
        "id": "view-in-github",
        "colab_type": "text"
      },
      "source": [
        "<a href=\"https://colab.research.google.com/github/Skynii/python/blob/main/tipo_de_variavel.ipynb\" target=\"_parent\"><img src=\"https://colab.research.google.com/assets/colab-badge.svg\" alt=\"Open In Colab\"/></a>"
      ]
    },
    {
      "cell_type": "code",
      "execution_count": 2,
      "metadata": {
        "colab": {
          "base_uri": "https://localhost:8080/"
        },
        "id": "8YtKZ07Vq58H",
        "outputId": "e2764abc-fae3-4809-b688-8a1466efc3db"
      },
      "outputs": [
        {
          "output_type": "stream",
          "name": "stdout",
          "text": [
            "<class 'int'>\n",
            "<class 'str'>\n",
            "<class 'float'>\n",
            "<class 'bool'>\n"
          ]
        }
      ],
      "source": [
        "#COMO VER TIPO DE VARIAVEL\n",
        "x = 10\n",
        "nome= 'aluno'\n",
        "nota= 8.75\n",
        "fez_inscricao = True\n",
        "\n",
        "print(type(x))\n",
        "print(type(nome))\n",
        "print(type(nota))\n",
        "print(type(fez_inscricao))"
      ]
    },
    {
      "cell_type": "code",
      "source": [
        "nome= input(\"Digite nome do aluno:\")\n",
        "#Print como em C;\n",
        "print(\"Olá %s, bem vindo a disciplina de programação. Parabéns pelo seu primeiro Hello World!\" %(nome))\n",
        "\n",
        "#print format()\n",
        "print(\"Olá {}, bem vindo a disciplina de programação. Parabéns pelo seu primeiro hello world!\".format(nome))\n",
        "\n",
        "#String formatadas\n",
        "print(f\"Olá {nome}, bem vindo a disciplina de programação. Parabéns pelo seu primeiro hello world!\")"
      ],
      "metadata": {
        "colab": {
          "base_uri": "https://localhost:8080/"
        },
        "id": "8gQFU2yAsubh",
        "outputId": "d8bd8b89-920a-4936-d7b0-a29635604740"
      },
      "execution_count": 15,
      "outputs": [
        {
          "output_type": "stream",
          "name": "stdout",
          "text": [
            "Digite nome do aluno:ll\n",
            "Olá ll, bem vindo a disciplina de programação. Parabéns pelo seu primeiro Hello World!\n",
            "Olá ll, bem vindo a disciplina de programação. Parabéns pelo seu primeiro hello world!\n",
            "Olá ll, bem vindo a disciplina de programação. Parabéns pelo seu primeiro hello world\n"
          ]
        }
      ]
    },
    {
      "cell_type": "code",
      "source": [
        ""
      ],
      "metadata": {
        "id": "k17syTdftMZI"
      },
      "execution_count": null,
      "outputs": []
    }
  ]
}