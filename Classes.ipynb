{
  "nbformat": 4,
  "nbformat_minor": 0,
  "metadata": {
    "colab": {
      "name": "Classes.ipynb",
      "provenance": [],
      "toc_visible": true,
      "authorship_tag": "ABX9TyPp/greAfrBtSFP2FjjuvsT",
      "include_colab_link": true
    },
    "kernelspec": {
      "name": "python3",
      "display_name": "Python 3"
    },
    "language_info": {
      "name": "python"
    }
  },
  "cells": [
    {
      "cell_type": "markdown",
      "metadata": {
        "id": "view-in-github",
        "colab_type": "text"
      },
      "source": [
        "<a href=\"https://colab.research.google.com/github/Skynii/python/blob/main/Classes.ipynb\" target=\"_parent\"><img src=\"https://colab.research.google.com/assets/colab-badge.svg\" alt=\"Open In Colab\"/></a>"
      ]
    },
    {
      "cell_type": "markdown",
      "source": [
        "# Classes"
      ],
      "metadata": {
        "id": "KF7ZNAUUXAeO"
      }
    },
    {
      "cell_type": "code",
      "execution_count": null,
      "metadata": {
        "colab": {
          "base_uri": "https://localhost:8080/"
        },
        "id": "YnwBWX9PW_bA",
        "outputId": "e224686d-ed0f-4c41-d542-c1c8395e532b"
      },
      "outputs": [
        {
          "output_type": "stream",
          "name": "stdout",
          "text": [
            "Olá Aluno, seja bem vindo a aula três de Linguagem de Programação em Python\n"
          ]
        }
      ],
      "source": [
        "class PrimeiraClasse: #Declaração da classe\n",
        "\n",
        "  def imprimir_mensagem(self, nome): #metodos para imprimir a mensagem.\n",
        "    print(f\"Olá {nome}, seja bem vindo a aula três de Linguagem de Programação em Python\")\n",
        "\n",
        "objeto1 = PrimeiraClasse()\n",
        "objeto1.imprimir_mensagem('Aluno')"
      ]
    },
    {
      "cell_type": "code",
      "source": [
        ""
      ],
      "metadata": {
        "id": "SZ7EfD61bYnT"
      },
      "execution_count": null,
      "outputs": []
    },
    {
      "cell_type": "markdown",
      "source": [
        "# Covid"
      ],
      "metadata": {
        "id": "kO3J2rDrbyen"
      }
    },
    {
      "cell_type": "code",
      "source": [
        "class Covid():\n",
        "  def posicao(self):\n",
        "    print('----------')\n",
        "  def nome(self):\n",
        "    print('----------')\n",
        "  def casos(self):\n",
        "    print('----------')\n",
        "  def mortes(self):\n",
        "   print('----------')\n",
        "\n",
        "#Acima encontra-se a priemira classe do programa, onde as caracterisicas principais ficam alocadas.\n",
        "\n",
        "class Brasil(Covid):\n",
        "  def posicao(self):\n",
        "    print('3 Lugar')\n",
        "  def nome(self):\n",
        "    print('-> Brasil - America do Sul')\n",
        "  def casos(self):\n",
        "    print('29.000.000 casos por Covid-19')\n",
        "  def mortes(self):\n",
        "   print('658.000 mortes confirmadas por COvid-19 e cerca de 28.300.000 curados')\n",
        "\n",
        "class main():\n",
        "  bra = Brasil()\n",
        "  print('Brasil:')\n",
        "  bra.posicao()\n",
        "  bra.nome()\n",
        "  bra.casos()\n",
        "  bra.mortes()\n",
        "\n",
        "#Main é o programa principal\n",
        "\n",
        "if __name__ == \"__main__\": main() # Metodo privado no __name__ para encerrar o programa"
      ],
      "metadata": {
        "colab": {
          "base_uri": "https://localhost:8080/"
        },
        "id": "BMk8XUEAb1OI",
        "outputId": "53bc8ba9-6cf8-4ec5-cb2c-a74ab6746029"
      },
      "execution_count": null,
      "outputs": [
        {
          "output_type": "stream",
          "name": "stdout",
          "text": [
            "Brasil:\n",
            "3 Lugar\n",
            "-> Brasil - America do Sul\n",
            "29.000.000 casos por Covid-19\n",
            "658.000 mortes confirmadas por COvid-19 e cerca de 28.300.000 curados\n"
          ]
        }
      ]
    },
    {
      "cell_type": "markdown",
      "source": [
        "# Televisão\n"
      ],
      "metadata": {
        "id": "cY5d8c2pd2ah"
      }
    },
    {
      "cell_type": "code",
      "source": [
        "class Televisao:\n",
        "  def __init__(self): \n",
        "    self.volume = 10 \n",
        "  def aumentar_volume(self):\n",
        "    self.volume += 1\n",
        "\n",
        "  def diminuir_volume(self):\n",
        "    self.volume -= 1\n",
        "\n",
        "tv = Televisao()\n",
        "print(\"Volume a ligar a TV = \", tv.volume)\n",
        "tv.aumentar_volume()\n",
        "print(\"Volume atual = \", tv.volume)\n",
        "tv.diminuir_volume()\n",
        "print(\"Volume atual = \", tv.volume)\n",
        "tv.diminuir_volume()\n",
        "print(\"Volume atual = \", tv.volume)\n"
      ],
      "metadata": {
        "colab": {
          "base_uri": "https://localhost:8080/"
        },
        "id": "UeSU0YUXd6na",
        "outputId": "e9964b8a-f8cb-4b59-8a7e-824cc2a791f4"
      },
      "execution_count": null,
      "outputs": [
        {
          "output_type": "stream",
          "name": "stdout",
          "text": [
            "Volume a ligar a TV =  10\n",
            "Volume atual =  11\n",
            "Volume atual =  10\n",
            "Volume atual =  9\n"
          ]
        }
      ]
    },
    {
      "cell_type": "markdown",
      "source": [
        "# Classe Pai e FIlha"
      ],
      "metadata": {
        "id": "oI-Z5z39g9mK"
      }
    },
    {
      "cell_type": "markdown",
      "source": [
        "# Nova seção"
      ],
      "metadata": {
        "id": "-ucPbXmXBJpR"
      }
    },
    {
      "cell_type": "code",
      "source": [
        "class Pessoa(object):\n",
        "  #__init__ é o construtor da classe\n",
        "  #self é a propria classe\n",
        "  def __init__(self, nome, numeroId):\n",
        "    self.nome = nome\n",
        "    self.numeroId = numeroId\n",
        "  def display(self):\n",
        "    print(self.nome)\n",
        "    print(self.numeroId)\n",
        "\n",
        "class Funcionario(Pessoa):\n",
        "  def __init__(self, nome, numeroId, salario, cargo):\n",
        "    self.salario = salario\n",
        "    self.cargo = cargo\n",
        "\n",
        "    Pessoa.__init__(self, nome, numeroId)\n",
        "\n",
        "func = Funcionario(\"Aluno Kroton\", 2334444, 200, \"Aluno Cologna\")\n",
        "\n",
        "func.display()"
      ],
      "metadata": {
        "colab": {
          "base_uri": "https://localhost:8080/"
        },
        "id": "a4nTHIMuhCl6",
        "outputId": "bda19b27-cf36-4b10-df3b-f7dc2c96a9f3"
      },
      "execution_count": null,
      "outputs": [
        {
          "output_type": "stream",
          "name": "stdout",
          "text": [
            "Aluno Kroton\n",
            "2334444\n"
          ]
        }
      ]
    },
    {
      "cell_type": "markdown",
      "source": [
        "#Metodo Privado\n"
      ],
      "metadata": {
        "id": "EyEP-gZGBdD5"
      }
    },
    {
      "cell_type": "code",
      "source": [
        "class Pessoa:\n",
        "  nome = ''\n",
        "  idade = 0\n",
        "\n",
        "  def __init__(self, nome, idade):\n",
        "    self.nome = nome\n",
        "    self.idade = idade\n",
        "  \n",
        "  def andar(self):\n",
        "    print(\"Andando\")\n",
        "    \n",
        "  def ligar(self):\n",
        "    print(\"Em ligação\")\n",
        "\n",
        "#Classe Derivada ou subclasse FUncionario que estende Pessoa:\n",
        "\n",
        "class Funcionario(Pessoa):\n",
        "  ocupacao = 'Desemprego'\n",
        "  salario = 0\n",
        "\n",
        "  def __init__(self, nome, idade, ocupacao, salario):\n",
        "    Pessoa.__init__(self, nome, idade)\n",
        "    self.ocupacao = ocupacao\n",
        "    self.salario = salario\n",
        "  \n",
        "  def trabalho(self):\n",
        "    print(\"Funcionario está trabalhando\")\n",
        "    self.andar()\n",
        "\n",
        "  def ligacao(self):\n",
        "    self.ligar()\n",
        "    print(\"Funcionario em ligação\")\n",
        "\n",
        "\n",
        "funcionario_1= Funcionario(\"Aluno Kroton\", 25, \"Desenvolvedor\", 40000)\n",
        "\n",
        "funcionario_1.trabalho()\n",
        "funcionario_1.ligacao()\n"
      ],
      "metadata": {
        "colab": {
          "base_uri": "https://localhost:8080/"
        },
        "id": "m1sb6Q_ABka9",
        "outputId": "14e876ee-0d31-4b4e-aa91-9d71dc5d2bd5"
      },
      "execution_count": 8,
      "outputs": [
        {
          "output_type": "stream",
          "name": "stdout",
          "text": [
            "Funcionario está trabalhando\n",
            "Andando\n",
            "Em ligação\n",
            "Funcionario em ligação\n"
          ]
        }
      ]
    },
    {
      "cell_type": "markdown",
      "source": [
        "# Herança\n"
      ],
      "metadata": {
        "id": "qOhdRAoQ_uzP"
      }
    },
    {
      "cell_type": "code",
      "source": [
        "class Pessoa:\n",
        "\n",
        "  def __init__(self):\n",
        "    self.cpf = None\n",
        "    self.nome = None\n",
        "    self.endereço = None\n",
        "\n",
        "class Funcionario(Pessoa):\n",
        "\n",
        "  def __init__(self):\n",
        "    self.matricula = None\n",
        "    self.salario = None\n",
        "\n",
        "  def bater_ponto(self):\n",
        "   #codigo aqui\n",
        "    pass\n",
        "    \n",
        "\n",
        "  def fazer_login(self):\n",
        "   #codigo aqui\n",
        "    pass\n",
        "    \n",
        "\n",
        "class Cliente(Pessoa):\n",
        "  def __init__(self):\n",
        "    self.codigo = None\n",
        "    self.dataCadastro = None\n",
        "  \n",
        "  def fazer_compras(self):\n",
        "    #codigo aqui\n",
        "    pass\n",
        "  \n",
        "  def pagar_conta(self):\n",
        "    #codigo aqui\n",
        "    pass\n",
        "    \n",
        "f1 = Funcionario()#Instancia objeto funcionario\n",
        "f1.nome = \"Funcionario A\"\n",
        "print(f1.nome) #herança\n",
        "\n",
        "c1= Cliente() #instancia objeto cliente\n",
        "c1.cpf =\"111.111.111-11\" #Atribuindo valor  variavel\n",
        "print(c1.cpf)#herança\n",
        "\n"
      ],
      "metadata": {
        "colab": {
          "base_uri": "https://localhost:8080/"
        },
        "id": "St183FEx_xuA",
        "outputId": "a65b7d8b-1d64-42f7-c182-0b4503802472"
      },
      "execution_count": 9,
      "outputs": [
        {
          "output_type": "stream",
          "name": "stdout",
          "text": [
            "Funcionario A\n",
            "111.111.111-11\n"
          ]
        }
      ]
    },
    {
      "cell_type": "code",
      "source": [
        ""
      ],
      "metadata": {
        "id": "ztGYgy1GCRDR"
      },
      "execution_count": null,
      "outputs": []
    },
    {
      "cell_type": "markdown",
      "source": [
        "# Metodos Mágico"
      ],
      "metadata": {
        "id": "E_yIIbCgCPac"
      }
    },
    {
      "cell_type": "code",
      "source": [
        "dir (Pessoa())"
      ],
      "metadata": {
        "colab": {
          "base_uri": "https://localhost:8080/"
        },
        "id": "maT0lS-1CZWt",
        "outputId": "690ff9be-e975-4a17-c40c-5def6bada694"
      },
      "execution_count": 10,
      "outputs": [
        {
          "output_type": "execute_result",
          "data": {
            "text/plain": [
              "['__class__',\n",
              " '__delattr__',\n",
              " '__dict__',\n",
              " '__dir__',\n",
              " '__doc__',\n",
              " '__eq__',\n",
              " '__format__',\n",
              " '__ge__',\n",
              " '__getattribute__',\n",
              " '__gt__',\n",
              " '__hash__',\n",
              " '__init__',\n",
              " '__init_subclass__',\n",
              " '__le__',\n",
              " '__lt__',\n",
              " '__module__',\n",
              " '__ne__',\n",
              " '__new__',\n",
              " '__reduce__',\n",
              " '__reduce_ex__',\n",
              " '__repr__',\n",
              " '__setattr__',\n",
              " '__sizeof__',\n",
              " '__str__',\n",
              " '__subclasshook__',\n",
              " '__weakref__',\n",
              " 'cpf',\n",
              " 'endereço',\n",
              " 'nome']"
            ]
          },
          "metadata": {},
          "execution_count": 10
        }
      ]
    },
    {
      "cell_type": "markdown",
      "source": [
        "# Bibliotecas"
      ],
      "metadata": {
        "id": "PpCSW4XbEsIH"
      }
    },
    {
      "cell_type": "code",
      "source": [
        "import math #carrega todas as funçoes\n",
        "\n",
        "math.sqrt(25)\n",
        "math.log2(1024)\n",
        "math.cos(45)\n",
        "  \n"
      ],
      "metadata": {
        "colab": {
          "base_uri": "https://localhost:8080/"
        },
        "id": "YeEnBPiGEvzC",
        "outputId": "26ad21c6-4c1c-4d8c-df51-fbc845dd6810"
      },
      "execution_count": 13,
      "outputs": [
        {
          "output_type": "execute_result",
          "data": {
            "text/plain": [
              "0.5253219888177297"
            ]
          },
          "metadata": {},
          "execution_count": 13
        }
      ]
    },
    {
      "cell_type": "code",
      "source": [
        "import math as m # carrega todas as funções mas damos outro nome a elas\n",
        "\n",
        "m.sqrt(25)\n",
        "m.log2(1024)\n",
        "m.cos(45)\n",
        "\n"
      ],
      "metadata": {
        "colab": {
          "base_uri": "https://localhost:8080/"
        },
        "id": "AYUKXa5TF4Hg",
        "outputId": "7bf38979-4c6c-4880-9d4d-a60d3acc5005"
      },
      "execution_count": 16,
      "outputs": [
        {
          "output_type": "execute_result",
          "data": {
            "text/plain": [
              "0.5253219888177297"
            ]
          },
          "metadata": {},
          "execution_count": 16
        }
      ]
    },
    {
      "cell_type": "code",
      "source": [
        "from math import sqrt, log2, cos #usando funções especificas\n",
        "\n",
        "sqrt(25)\n",
        "log2(1024)\n",
        "cos(45)"
      ],
      "metadata": {
        "colab": {
          "base_uri": "https://localhost:8080/"
        },
        "id": "dR88Ivz4F75Q",
        "outputId": "4893dbf0-4a3a-4ac5-b186-24038db551de"
      },
      "execution_count": 15,
      "outputs": [
        {
          "output_type": "execute_result",
          "data": {
            "text/plain": [
              "0.5253219888177297"
            ]
          },
          "metadata": {},
          "execution_count": 15
        }
      ]
    },
    {
      "cell_type": "markdown",
      "source": [
        "# Request"
      ],
      "metadata": {
        "id": "JKrdZERjHEdv"
      }
    },
    {
      "cell_type": "code",
      "source": [
        "import requests\n",
        "\n",
        "info = requests.get('https://api.github.com/events')\n",
        "info.headers\n",
        "\n",
        "print(info.headers['date'])#Daa da extração\n",
        "print(info.headers['server']) #servidor de origem\n",
        "print(info.encoding)\n",
        "print(info.headers['last-modified'])"
      ],
      "metadata": {
        "colab": {
          "base_uri": "https://localhost:8080/"
        },
        "id": "jwF4ChPVHIn2",
        "outputId": "8709ece4-85fc-405e-9cf7-19b5ba219d3d"
      },
      "execution_count": 18,
      "outputs": [
        {
          "output_type": "stream",
          "name": "stdout",
          "text": [
            "Thu, 31 Mar 2022 13:16:37 GMT\n",
            "GitHub.com\n",
            "utf-8\n",
            "Thu, 31 Mar 2022 13:11:37 GMT\n"
          ]
        }
      ]
    },
    {
      "cell_type": "markdown",
      "source": [
        "# Matplotlib -Gerar grafico"
      ],
      "metadata": {
        "id": "nOjWuGAxH68m"
      }
    },
    {
      "cell_type": "code",
      "source": [
        "from matplotlib import pyplot as plt\n",
        "\n",
        "x= [5,2,7]\n",
        "y = [2,16,4]\n",
        "plt.plot(x,y)\n",
        "plt.title('Info')\n",
        "plt.ylabel('Y axis')\n",
        "plt.xlabel('X axis')\n",
        "plt.show() #mostrar na tela"
      ],
      "metadata": {
        "colab": {
          "base_uri": "https://localhost:8080/",
          "height": 295
        },
        "id": "gnD2jQF0IApn",
        "outputId": "c12e13b5-fc12-436e-f30e-7da18d559c1f"
      },
      "execution_count": 20,
      "outputs": [
        {
          "output_type": "display_data",
          "data": {
            "text/plain": [
              "<Figure size 432x288 with 1 Axes>"
            ],
            "image/png": "[encoded data removed]"
          },
          "metadata": {
            "needs_background": "light"
          }
        }
      ]
    },
    {
      "cell_type": "code",
      "source": [
        "from matplotlib import pyplot as plt\n",
        "\n",
        "plt.bar([0.25, 1.25, 2.25, 3.25, 4.25], [50,40,70,80,20],\n",
        "label= \"BMW\", color='black', width= .5)\n",
        "plt.bar([ .75, 1.75, 2.75, 3.75, 4.75], [80,20,20,50,60],\n",
        "label = \"Audi\", color ='r', width = .5)\n",
        "plt.legend()\n",
        "plt.xlabel('Days')\n",
        "plt.ylabel(\"Distance(kms)\")\n",
        "plt.title('Information')\n",
        "plt.show()"
      ],
      "metadata": {
        "colab": {
          "base_uri": "https://localhost:8080/",
          "height": 295
        },
        "id": "hZPmYGygIx9W",
        "outputId": "869067c7-3493-4165-d811-950c24a742d0"
      },
      "execution_count": 25,
      "outputs": [
        {
          "output_type": "display_data",
          "data": {
            "text/plain": [
              "<Figure size 432x288 with 1 Axes>"
            ],
            "image/png": "[encoded data removed]"
          },
          "metadata": {
            "needs_background": "light"
          }
        }
      ]
    }
  ]
}